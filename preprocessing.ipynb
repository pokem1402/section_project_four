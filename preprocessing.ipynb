{
 "cells": [
  {
   "cell_type": "code",
   "execution_count": null,
   "metadata": {},
   "outputs": [],
   "source": [
    "import tensorflow as tf\n",
    "import os\n",
    "import time\n",
    "\n",
    "from matplotlib import pyplot as plt\n",
    "from IPython import display\n"
   ]
  },
  {
   "cell_type": "code",
   "execution_count": null,
   "metadata": {},
   "outputs": [],
   "source": [
    "TRAIN_PATH = os.path.join(os.getcwd(), 'Dataset', 'train')\n",
    "TEST_PATH = os.path.join(os.getcwd(), 'Dataset', 'test')"
   ]
  },
  {
   "cell_type": "code",
   "execution_count": null,
   "metadata": {},
   "outputs": [],
   "source": [
    "'''\n",
    "    remove sketch_file name tag\n",
    "'''\n",
    "sketch_dir = os.path.join(TEST_PATH, 'sketch')\n",
    "filenames = [f for f in os.listdir(\n",
    "    sketch_dir) if os.path.isfile(os.path.join(sketch_dir, f))]\n",
    "\n",
    "for filename in filenames:\n",
    "    os.rename(os.path.join(sketch_dir, filename), os.path.join(\n",
    "        sketch_dir, filename.split(\"_\")[0]+\".jpg\"))\n"
   ]
  },
  {
   "cell_type": "code",
   "execution_count": null,
   "metadata": {},
   "outputs": [],
   "source": [
    "'''\n",
    "    add zero padding to file name\n",
    "'''\n",
    "sketch_dir = os.path.join(TEST_PATH, 'sketch')\n",
    "real_dir = os.path.join(TEST_PATH, 'real')\n",
    "\n",
    "def file_name_zero_padding(dir):\n",
    "    filenames = [f for f in os.listdir(\n",
    "        dir) if os.path.isfile(os.path.join(dir, f))]\n",
    "\n",
    "    for filename in filenames:\n",
    "        os.rename(os.path.join(dir, filename), os.path.join(\n",
    "            dir, filename.zfill(9)))\n",
    "\n",
    "file_name_zero_padding(sketch_dir)\n",
    "file_name_zero_padding(real_dir)\n"
   ]
  }
 ],
 "metadata": {
  "language_info": {
   "name": "python"
  },
  "orig_nbformat": 4
 },
 "nbformat": 4,
 "nbformat_minor": 2
}
